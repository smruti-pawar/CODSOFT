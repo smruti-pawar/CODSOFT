{
 "cells": [
  {
   "cell_type": "markdown",
   "id": "dbfcf989",
   "metadata": {},
   "source": [
    "# TASK - 2 MOVIE RATING PREDICTION "
   ]
  },
  {
   "cell_type": "markdown",
   "id": "9a0c2386",
   "metadata": {},
   "source": [
    "### # Problem statement\n",
    "- Build a model that predicts the rating of a movie based on features like genre, director, and actors. You can use regression techniques to tackle this problem.\n",
    "- The goal is to analyze historical movie data and develop a model that accurately estimates the rating given to a movie by users or critics."
   ]
  },
  {
   "cell_type": "markdown",
   "id": "eb08d2e8",
   "metadata": {},
   "source": [
    "### # Import library"
   ]
  },
  {
   "cell_type": "code",
   "execution_count": 1,
   "id": "a3166ead",
   "metadata": {},
   "outputs": [],
   "source": [
    "import pandas as pd\n",
    "import numpy as np\n",
    "import matplotlib.pyplot as plt\n",
    "import seaborn as sns\n",
    "from sklearn.model_selection import train_test_split\n",
    "import statsmodels.api as sm"
   ]
  },
  {
   "cell_type": "markdown",
   "id": "faf5a07c",
   "metadata": {},
   "source": [
    "### # Import dataset"
   ]
  },
  {
   "cell_type": "code",
   "execution_count": 2,
   "id": "2dbf863b",
   "metadata": {},
   "outputs": [
    {
     "data": {
      "text/html": [
       "<div>\n",
       "<style scoped>\n",
       "    .dataframe tbody tr th:only-of-type {\n",
       "        vertical-align: middle;\n",
       "    }\n",
       "\n",
       "    .dataframe tbody tr th {\n",
       "        vertical-align: top;\n",
       "    }\n",
       "\n",
       "    .dataframe thead th {\n",
       "        text-align: right;\n",
       "    }\n",
       "</style>\n",
       "<table border=\"1\" class=\"dataframe\">\n",
       "  <thead>\n",
       "    <tr style=\"text-align: right;\">\n",
       "      <th></th>\n",
       "      <th>Name</th>\n",
       "      <th>Year</th>\n",
       "      <th>Duration</th>\n",
       "      <th>Genre</th>\n",
       "      <th>Rating</th>\n",
       "      <th>Votes</th>\n",
       "      <th>Director</th>\n",
       "      <th>Actor 1</th>\n",
       "      <th>Actor 2</th>\n",
       "      <th>Actor 3</th>\n",
       "    </tr>\n",
       "  </thead>\n",
       "  <tbody>\n",
       "    <tr>\n",
       "      <th>0</th>\n",
       "      <td></td>\n",
       "      <td>NaN</td>\n",
       "      <td>NaN</td>\n",
       "      <td>Drama</td>\n",
       "      <td>NaN</td>\n",
       "      <td>NaN</td>\n",
       "      <td>J.S. Randhawa</td>\n",
       "      <td>Manmauji</td>\n",
       "      <td>Birbal</td>\n",
       "      <td>Rajendra Bhatia</td>\n",
       "    </tr>\n",
       "    <tr>\n",
       "      <th>1</th>\n",
       "      <td>#Gadhvi (He thought he was Gandhi)</td>\n",
       "      <td>(2019)</td>\n",
       "      <td>109 min</td>\n",
       "      <td>Drama</td>\n",
       "      <td>7.0</td>\n",
       "      <td>8</td>\n",
       "      <td>Gaurav Bakshi</td>\n",
       "      <td>Rasika Dugal</td>\n",
       "      <td>Vivek Ghamande</td>\n",
       "      <td>Arvind Jangid</td>\n",
       "    </tr>\n",
       "    <tr>\n",
       "      <th>2</th>\n",
       "      <td>#Homecoming</td>\n",
       "      <td>(2021)</td>\n",
       "      <td>90 min</td>\n",
       "      <td>Drama, Musical</td>\n",
       "      <td>NaN</td>\n",
       "      <td>NaN</td>\n",
       "      <td>Soumyajit Majumdar</td>\n",
       "      <td>Sayani Gupta</td>\n",
       "      <td>Plabita Borthakur</td>\n",
       "      <td>Roy Angana</td>\n",
       "    </tr>\n",
       "    <tr>\n",
       "      <th>3</th>\n",
       "      <td>#Yaaram</td>\n",
       "      <td>(2019)</td>\n",
       "      <td>110 min</td>\n",
       "      <td>Comedy, Romance</td>\n",
       "      <td>4.4</td>\n",
       "      <td>35</td>\n",
       "      <td>Ovais Khan</td>\n",
       "      <td>Prateik</td>\n",
       "      <td>Ishita Raj</td>\n",
       "      <td>Siddhant Kapoor</td>\n",
       "    </tr>\n",
       "    <tr>\n",
       "      <th>4</th>\n",
       "      <td>...And Once Again</td>\n",
       "      <td>(2010)</td>\n",
       "      <td>105 min</td>\n",
       "      <td>Drama</td>\n",
       "      <td>NaN</td>\n",
       "      <td>NaN</td>\n",
       "      <td>Amol Palekar</td>\n",
       "      <td>Rajat Kapoor</td>\n",
       "      <td>Rituparna Sengupta</td>\n",
       "      <td>Antara Mali</td>\n",
       "    </tr>\n",
       "  </tbody>\n",
       "</table>\n",
       "</div>"
      ],
      "text/plain": [
       "                                 Name    Year Duration            Genre  \\\n",
       "0                                         NaN      NaN            Drama   \n",
       "1  #Gadhvi (He thought he was Gandhi)  (2019)  109 min            Drama   \n",
       "2                         #Homecoming  (2021)   90 min   Drama, Musical   \n",
       "3                             #Yaaram  (2019)  110 min  Comedy, Romance   \n",
       "4                   ...And Once Again  (2010)  105 min            Drama   \n",
       "\n",
       "   Rating Votes            Director       Actor 1             Actor 2  \\\n",
       "0     NaN   NaN       J.S. Randhawa      Manmauji              Birbal   \n",
       "1     7.0     8       Gaurav Bakshi  Rasika Dugal      Vivek Ghamande   \n",
       "2     NaN   NaN  Soumyajit Majumdar  Sayani Gupta   Plabita Borthakur   \n",
       "3     4.4    35          Ovais Khan       Prateik          Ishita Raj   \n",
       "4     NaN   NaN        Amol Palekar  Rajat Kapoor  Rituparna Sengupta   \n",
       "\n",
       "           Actor 3  \n",
       "0  Rajendra Bhatia  \n",
       "1    Arvind Jangid  \n",
       "2       Roy Angana  \n",
       "3  Siddhant Kapoor  \n",
       "4      Antara Mali  "
      ]
     },
     "execution_count": 2,
     "metadata": {},
     "output_type": "execute_result"
    }
   ],
   "source": [
    "df = pd.read_csv('IMDb Movies India.csv.' , encoding = 'latin - 1')\n",
    "df.head()"
   ]
  },
  {
   "cell_type": "code",
   "execution_count": 3,
   "id": "5837039e",
   "metadata": {},
   "outputs": [],
   "source": [
    "df.columns = df.columns.str.replace(' ' , '_')"
   ]
  },
  {
   "cell_type": "markdown",
   "id": "aa791c9e",
   "metadata": {},
   "source": [
    "### # EDA"
   ]
  },
  {
   "cell_type": "code",
   "execution_count": 4,
   "id": "6bbc9fa5",
   "metadata": {},
   "outputs": [
    {
     "data": {
      "text/plain": [
       "(15509, 10)"
      ]
     },
     "execution_count": 4,
     "metadata": {},
     "output_type": "execute_result"
    }
   ],
   "source": [
    "df.shape"
   ]
  },
  {
   "cell_type": "code",
   "execution_count": 5,
   "id": "aabc4212",
   "metadata": {},
   "outputs": [
    {
     "name": "stdout",
     "output_type": "stream",
     "text": [
      "<class 'pandas.core.frame.DataFrame'>\n",
      "RangeIndex: 15509 entries, 0 to 15508\n",
      "Data columns (total 10 columns):\n",
      " #   Column    Non-Null Count  Dtype  \n",
      "---  ------    --------------  -----  \n",
      " 0   Name      15509 non-null  object \n",
      " 1   Year      14981 non-null  object \n",
      " 2   Duration  7240 non-null   object \n",
      " 3   Genre     13632 non-null  object \n",
      " 4   Rating    7919 non-null   float64\n",
      " 5   Votes     7920 non-null   object \n",
      " 6   Director  14984 non-null  object \n",
      " 7   Actor_1   13892 non-null  object \n",
      " 8   Actor_2   13125 non-null  object \n",
      " 9   Actor_3   12365 non-null  object \n",
      "dtypes: float64(1), object(9)\n",
      "memory usage: 1.2+ MB\n"
     ]
    }
   ],
   "source": [
    "df.info()"
   ]
  },
  {
   "cell_type": "code",
   "execution_count": 6,
   "id": "1c950466",
   "metadata": {},
   "outputs": [
    {
     "data": {
      "text/html": [
       "<div>\n",
       "<style scoped>\n",
       "    .dataframe tbody tr th:only-of-type {\n",
       "        vertical-align: middle;\n",
       "    }\n",
       "\n",
       "    .dataframe tbody tr th {\n",
       "        vertical-align: top;\n",
       "    }\n",
       "\n",
       "    .dataframe thead th {\n",
       "        text-align: right;\n",
       "    }\n",
       "</style>\n",
       "<table border=\"1\" class=\"dataframe\">\n",
       "  <thead>\n",
       "    <tr style=\"text-align: right;\">\n",
       "      <th></th>\n",
       "      <th>Rating</th>\n",
       "    </tr>\n",
       "  </thead>\n",
       "  <tbody>\n",
       "    <tr>\n",
       "      <th>count</th>\n",
       "      <td>7919.000000</td>\n",
       "    </tr>\n",
       "    <tr>\n",
       "      <th>mean</th>\n",
       "      <td>5.841621</td>\n",
       "    </tr>\n",
       "    <tr>\n",
       "      <th>std</th>\n",
       "      <td>1.381777</td>\n",
       "    </tr>\n",
       "    <tr>\n",
       "      <th>min</th>\n",
       "      <td>1.100000</td>\n",
       "    </tr>\n",
       "    <tr>\n",
       "      <th>25%</th>\n",
       "      <td>4.900000</td>\n",
       "    </tr>\n",
       "    <tr>\n",
       "      <th>50%</th>\n",
       "      <td>6.000000</td>\n",
       "    </tr>\n",
       "    <tr>\n",
       "      <th>75%</th>\n",
       "      <td>6.800000</td>\n",
       "    </tr>\n",
       "    <tr>\n",
       "      <th>max</th>\n",
       "      <td>10.000000</td>\n",
       "    </tr>\n",
       "  </tbody>\n",
       "</table>\n",
       "</div>"
      ],
      "text/plain": [
       "            Rating\n",
       "count  7919.000000\n",
       "mean      5.841621\n",
       "std       1.381777\n",
       "min       1.100000\n",
       "25%       4.900000\n",
       "50%       6.000000\n",
       "75%       6.800000\n",
       "max      10.000000"
      ]
     },
     "execution_count": 6,
     "metadata": {},
     "output_type": "execute_result"
    }
   ],
   "source": [
    "df.describe()"
   ]
  },
  {
   "cell_type": "code",
   "execution_count": 7,
   "id": "351720a7",
   "metadata": {},
   "outputs": [
    {
     "data": {
      "text/plain": [
       "Name         object\n",
       "Year         object\n",
       "Duration     object\n",
       "Genre        object\n",
       "Rating      float64\n",
       "Votes        object\n",
       "Director     object\n",
       "Actor_1      object\n",
       "Actor_2      object\n",
       "Actor_3      object\n",
       "dtype: object"
      ]
     },
     "execution_count": 7,
     "metadata": {},
     "output_type": "execute_result"
    }
   ],
   "source": [
    "df.dtypes"
   ]
  },
  {
   "cell_type": "markdown",
   "id": "7b520c56",
   "metadata": {},
   "source": [
    "### # Data preprocesing"
   ]
  },
  {
   "cell_type": "markdown",
   "id": "ab70e448",
   "metadata": {},
   "source": [
    "###### - Checking data types"
   ]
  },
  {
   "cell_type": "code",
   "execution_count": 8,
   "id": "49fd6834",
   "metadata": {},
   "outputs": [
    {
     "data": {
      "text/plain": [
       "Name         object\n",
       "Year         object\n",
       "Duration     object\n",
       "Genre        object\n",
       "Rating      float64\n",
       "Votes        object\n",
       "Director     object\n",
       "Actor_1      object\n",
       "Actor_2      object\n",
       "Actor_3      object\n",
       "dtype: object"
      ]
     },
     "execution_count": 8,
     "metadata": {},
     "output_type": "execute_result"
    }
   ],
   "source": [
    "df.dtypes"
   ]
  },
  {
   "cell_type": "markdown",
   "id": "5086a038",
   "metadata": {},
   "source": [
    "###### - Checking duplicate"
   ]
  },
  {
   "cell_type": "code",
   "execution_count": 9,
   "id": "b2ec86d4",
   "metadata": {},
   "outputs": [
    {
     "data": {
      "text/plain": [
       "6"
      ]
     },
     "execution_count": 9,
     "metadata": {},
     "output_type": "execute_result"
    }
   ],
   "source": [
    "df.duplicated().sum()"
   ]
  },
  {
   "cell_type": "code",
   "execution_count": 10,
   "id": "5d7cb0e1",
   "metadata": {},
   "outputs": [],
   "source": [
    "# droping duplicate values\n",
    "\n",
    "df.drop_duplicates(inplace = True)"
   ]
  },
  {
   "cell_type": "markdown",
   "id": "14903df8",
   "metadata": {},
   "source": [
    "###### - Checking null vlaues"
   ]
  },
  {
   "cell_type": "code",
   "execution_count": 11,
   "id": "238233f9",
   "metadata": {},
   "outputs": [
    {
     "data": {
      "text/plain": [
       "Name         0.000000\n",
       "Year         3.399342\n",
       "Duration    53.305812\n",
       "Genre       12.100884\n",
       "Rating      48.919564\n",
       "Votes       48.913114\n",
       "Director     3.379991\n",
       "Actor_1     10.417339\n",
       "Actor_2     15.358318\n",
       "Actor_3     20.254144\n",
       "dtype: float64"
      ]
     },
     "execution_count": 11,
     "metadata": {},
     "output_type": "execute_result"
    }
   ],
   "source": [
    "df.isna().sum()*100/len(df)"
   ]
  },
  {
   "cell_type": "markdown",
   "id": "ad3e9c6a",
   "metadata": {},
   "source": [
    "###### - Droping null values"
   ]
  },
  {
   "cell_type": "code",
   "execution_count": 12,
   "id": "2e8f9fe2",
   "metadata": {},
   "outputs": [],
   "source": [
    "# Dropping name column namw colum not essential \n",
    "\n",
    "df.drop('Name' , axis = 1 , inplace = True)"
   ]
  },
  {
   "cell_type": "code",
   "execution_count": 13,
   "id": "74c777f5",
   "metadata": {},
   "outputs": [],
   "source": [
    "# droping null values  = Year , Director , Genre\n",
    "\n",
    "df.dropna(subset = ['Year' , 'Director' , 'Genre' ], inplace = True) "
   ]
  },
  {
   "cell_type": "code",
   "execution_count": 14,
   "id": "72e2df9a",
   "metadata": {},
   "outputs": [],
   "source": [
    "# replace () from name\n",
    "\n",
    "df['Year'] = df['Year'].str.replace(r'[()]', '', regex=True)"
   ]
  },
  {
   "cell_type": "markdown",
   "id": "9c1555de",
   "metadata": {},
   "source": [
    "### - treting null values  "
   ]
  },
  {
   "cell_type": "markdown",
   "id": "2e25b211",
   "metadata": {},
   "source": [
    "###### Year"
   ]
  },
  {
   "cell_type": "code",
   "execution_count": 15,
   "id": "731daeed",
   "metadata": {},
   "outputs": [],
   "source": [
    "# Year\n",
    "\n",
    "# Removing () from year \n",
    "df['Year'] = df['Year'].str.replace(r'[()]', '', regex=True)\n",
    "\n",
    "#Converting year to numeric column\n",
    "df['Year'] = pd.to_numeric(df['Year'])\n"
   ]
  },
  {
   "cell_type": "markdown",
   "id": "484d340f",
   "metadata": {},
   "source": [
    "###### Duration"
   ]
  },
  {
   "cell_type": "code",
   "execution_count": 16,
   "id": "4c2fb200",
   "metadata": {},
   "outputs": [],
   "source": [
    "# convt min\n",
    "df.Duration.replace('min' , '',regex = True , inplace = True)\n",
    "\n",
    "# convt from obj to numeric\n",
    "df['Duration'] = pd.to_numeric(df['Duration'])  \n",
    "\n",
    "# filling null value with mean\n",
    "df['Duration'].fillna(df['Duration'].mean() , inplace = True)"
   ]
  },
  {
   "cell_type": "markdown",
   "id": "5d0ab92b",
   "metadata": {},
   "source": [
    "###### Rating"
   ]
  },
  {
   "cell_type": "code",
   "execution_count": 17,
   "id": "fef9386e",
   "metadata": {},
   "outputs": [],
   "source": [
    "df['Rating'].fillna(df['Rating'].mean() , inplace = True)"
   ]
  },
  {
   "cell_type": "markdown",
   "id": "e69a24f5",
   "metadata": {},
   "source": [
    "###### Votes"
   ]
  },
  {
   "cell_type": "code",
   "execution_count": 18,
   "id": "e2449697",
   "metadata": {},
   "outputs": [],
   "source": [
    "# convert obj to numeric\n",
    "df['Votes']=pd.to_numeric(df['Votes'] , errors = 'coerce')\n",
    "\n",
    "# filling null values\n",
    "df['Votes'].fillna(df['Votes'].mean() , inplace = True)"
   ]
  },
  {
   "cell_type": "markdown",
   "id": "e9e925b5",
   "metadata": {},
   "source": [
    "###### Actors "
   ]
  },
  {
   "cell_type": "code",
   "execution_count": 19,
   "id": "37688928",
   "metadata": {},
   "outputs": [],
   "source": [
    "# assign var act_col for all actors\n",
    "act_col = ['Actor_1' , 'Actor_2' , 'Actor_3']"
   ]
  },
  {
   "cell_type": "code",
   "execution_count": 20,
   "id": "5693e1cc",
   "metadata": {},
   "outputs": [],
   "source": [
    "# filling null values\n",
    "\n",
    "def act(data) :\n",
    "    df[data].fillna(df[data].mode()[0] , inplace = True)\n",
    "    \n",
    "for i in act_col :\n",
    "    act(i)"
   ]
  },
  {
   "cell_type": "code",
   "execution_count": null,
   "id": "579817b8",
   "metadata": {},
   "outputs": [],
   "source": []
  },
  {
   "cell_type": "markdown",
   "id": "f2b648fa",
   "metadata": {},
   "source": [
    "### Target encoding"
   ]
  },
  {
   "cell_type": "code",
   "execution_count": 21,
   "id": "08bf8e89",
   "metadata": {},
   "outputs": [
    {
     "data": {
      "text/html": [
       "<div>\n",
       "<style scoped>\n",
       "    .dataframe tbody tr th:only-of-type {\n",
       "        vertical-align: middle;\n",
       "    }\n",
       "\n",
       "    .dataframe tbody tr th {\n",
       "        vertical-align: top;\n",
       "    }\n",
       "\n",
       "    .dataframe thead th {\n",
       "        text-align: right;\n",
       "    }\n",
       "</style>\n",
       "<table border=\"1\" class=\"dataframe\">\n",
       "  <thead>\n",
       "    <tr style=\"text-align: right;\">\n",
       "      <th></th>\n",
       "      <th>Year</th>\n",
       "      <th>Duration</th>\n",
       "      <th>Genre</th>\n",
       "      <th>Rating</th>\n",
       "      <th>Votes</th>\n",
       "      <th>Director</th>\n",
       "      <th>Actor_1</th>\n",
       "      <th>Actor_2</th>\n",
       "      <th>Actor_3</th>\n",
       "    </tr>\n",
       "  </thead>\n",
       "  <tbody>\n",
       "    <tr>\n",
       "      <th>1</th>\n",
       "      <td>2019</td>\n",
       "      <td>109.0</td>\n",
       "      <td>Drama</td>\n",
       "      <td>7.000000</td>\n",
       "      <td>8.000000</td>\n",
       "      <td>Gaurav Bakshi</td>\n",
       "      <td>Rasika Dugal</td>\n",
       "      <td>Vivek Ghamande</td>\n",
       "      <td>Arvind Jangid</td>\n",
       "    </tr>\n",
       "    <tr>\n",
       "      <th>2</th>\n",
       "      <td>2021</td>\n",
       "      <td>90.0</td>\n",
       "      <td>Drama, Musical</td>\n",
       "      <td>5.839196</td>\n",
       "      <td>122.631889</td>\n",
       "      <td>Soumyajit Majumdar</td>\n",
       "      <td>Sayani Gupta</td>\n",
       "      <td>Plabita Borthakur</td>\n",
       "      <td>Roy Angana</td>\n",
       "    </tr>\n",
       "  </tbody>\n",
       "</table>\n",
       "</div>"
      ],
      "text/plain": [
       "   Year  Duration           Genre    Rating       Votes            Director  \\\n",
       "1  2019     109.0           Drama  7.000000    8.000000       Gaurav Bakshi   \n",
       "2  2021      90.0  Drama, Musical  5.839196  122.631889  Soumyajit Majumdar   \n",
       "\n",
       "        Actor_1            Actor_2        Actor_3  \n",
       "1  Rasika Dugal     Vivek Ghamande  Arvind Jangid  \n",
       "2  Sayani Gupta  Plabita Borthakur     Roy Angana  "
      ]
     },
     "execution_count": 21,
     "metadata": {},
     "output_type": "execute_result"
    }
   ],
   "source": [
    "df.head(2)"
   ]
  },
  {
   "cell_type": "code",
   "execution_count": 22,
   "id": "f7559727",
   "metadata": {},
   "outputs": [],
   "source": [
    "genre_mean_rating = df.groupby('Genre')['Rating'].transform('mean')\n",
    "df['Genre_mean_rating'] = genre_mean_rating\n",
    "\n",
    "director_mean_rating = df.groupby('Director')['Rating'].transform('mean')\n",
    "df['Director_encoded'] = director_mean_rating\n",
    "\n",
    "actor1_mean_rating = df.groupby('Actor_1')['Rating'].transform('mean')\n",
    "df['Actor1_encoded'] = actor1_mean_rating\n",
    "\n",
    "actor2_mean_rating = df.groupby('Actor_2')['Rating'].transform('mean')\n",
    "df['Actor2_encoded'] = actor2_mean_rating\n",
    "\n",
    "actor3_mean_rating = df.groupby('Actor_3')['Rating'].transform('mean')\n",
    "df['Actor3_encoded'] = actor3_mean_rating\n",
    "\n",
    "df.drop(['Genre','Director' , 'Actor_1' , 'Actor_2' , 'Actor_3'] , axis = 1 , inplace = True)"
   ]
  },
  {
   "cell_type": "code",
   "execution_count": 23,
   "id": "207ce813",
   "metadata": {},
   "outputs": [
    {
     "data": {
      "text/html": [
       "<div>\n",
       "<style scoped>\n",
       "    .dataframe tbody tr th:only-of-type {\n",
       "        vertical-align: middle;\n",
       "    }\n",
       "\n",
       "    .dataframe tbody tr th {\n",
       "        vertical-align: top;\n",
       "    }\n",
       "\n",
       "    .dataframe thead th {\n",
       "        text-align: right;\n",
       "    }\n",
       "</style>\n",
       "<table border=\"1\" class=\"dataframe\">\n",
       "  <thead>\n",
       "    <tr style=\"text-align: right;\">\n",
       "      <th></th>\n",
       "      <th>Year</th>\n",
       "      <th>Duration</th>\n",
       "      <th>Rating</th>\n",
       "      <th>Votes</th>\n",
       "      <th>Genre_mean_rating</th>\n",
       "      <th>Director_encoded</th>\n",
       "      <th>Actor1_encoded</th>\n",
       "      <th>Actor2_encoded</th>\n",
       "      <th>Actor3_encoded</th>\n",
       "    </tr>\n",
       "  </thead>\n",
       "  <tbody>\n",
       "    <tr>\n",
       "      <th>1</th>\n",
       "      <td>2019</td>\n",
       "      <td>109.0</td>\n",
       "      <td>7.000000</td>\n",
       "      <td>8.000000</td>\n",
       "      <td>6.082378</td>\n",
       "      <td>7.000000</td>\n",
       "      <td>6.850000</td>\n",
       "      <td>7.000000</td>\n",
       "      <td>7.000000</td>\n",
       "    </tr>\n",
       "    <tr>\n",
       "      <th>2</th>\n",
       "      <td>2021</td>\n",
       "      <td>90.0</td>\n",
       "      <td>5.839196</td>\n",
       "      <td>122.631889</td>\n",
       "      <td>6.325435</td>\n",
       "      <td>5.839196</td>\n",
       "      <td>6.419598</td>\n",
       "      <td>6.846399</td>\n",
       "      <td>5.839196</td>\n",
       "    </tr>\n",
       "  </tbody>\n",
       "</table>\n",
       "</div>"
      ],
      "text/plain": [
       "   Year  Duration    Rating       Votes  Genre_mean_rating  Director_encoded  \\\n",
       "1  2019     109.0  7.000000    8.000000           6.082378          7.000000   \n",
       "2  2021      90.0  5.839196  122.631889           6.325435          5.839196   \n",
       "\n",
       "   Actor1_encoded  Actor2_encoded  Actor3_encoded  \n",
       "1        6.850000        7.000000        7.000000  \n",
       "2        6.419598        6.846399        5.839196  "
      ]
     },
     "execution_count": 23,
     "metadata": {},
     "output_type": "execute_result"
    }
   ],
   "source": [
    "df.head(2)"
   ]
  },
  {
   "cell_type": "markdown",
   "id": "be343908",
   "metadata": {},
   "source": [
    "### Data visualization"
   ]
  },
  {
   "cell_type": "code",
   "execution_count": null,
   "id": "67866cac",
   "metadata": {},
   "outputs": [],
   "source": [
    "sns.pairplot(df)\n",
    "plt.show()"
   ]
  },
  {
   "cell_type": "code",
   "execution_count": null,
   "id": "4a74030c",
   "metadata": {},
   "outputs": [],
   "source": [
    "plt.figure(figsize = (12,10) , dpi = 100)\n",
    "for i , j in enumerate(df):\n",
    "    plt.subplot(4,4 , i+1)\n",
    "    plt.boxplot(df[j])\n",
    "    plt.title(j)\n",
    "    plt.tight_layout()\n",
    "    "
   ]
  },
  {
   "cell_type": "markdown",
   "id": "c2809fad",
   "metadata": {},
   "source": [
    "### Treating Outliers"
   ]
  },
  {
   "cell_type": "code",
   "execution_count": 26,
   "id": "87a52ea8",
   "metadata": {},
   "outputs": [],
   "source": [
    "# Iqr method \n",
    "\n",
    "q1 = df.quantile(0.25) \n",
    "q3 = df.quantile(0.75)\n",
    "\n",
    "IQR = q3 - q1\n",
    "\n",
    "ul = q3 + 1.5 * IQR\n",
    "ll = q1 - 1.5 * IQR\n",
    "\n",
    "df_new = np.where(df <= ll ,ll , np.where(df >=ul , ul , df))"
   ]
  },
  {
   "cell_type": "code",
   "execution_count": 27,
   "id": "f72aa761",
   "metadata": {},
   "outputs": [],
   "source": [
    "df_new = pd.DataFrame(df_new , columns = df.columns)"
   ]
  },
  {
   "cell_type": "code",
   "execution_count": 28,
   "id": "dd1648ee",
   "metadata": {},
   "outputs": [
    {
     "data": {
      "image/png": "[encoded data removed]",
      "text/plain": [
       "<Figure size 640x480 with 1 Axes>"
      ]
     },
     "metadata": {},
     "output_type": "display_data"
    }
   ],
   "source": [
    "sns.boxplot(df_new)\n",
    "plt.show()"
   ]
  },
  {
   "cell_type": "code",
   "execution_count": 29,
   "id": "56cabdc7",
   "metadata": {},
   "outputs": [
    {
     "data": {
      "image/png": "[encoded data removed]",
      "text/plain": [
       "<Figure size 1600x1000 with 2 Axes>"
      ]
     },
     "metadata": {},
     "output_type": "display_data"
    }
   ],
   "source": [
    "plt.figure(figsize = (16,10))\n",
    "sns.heatmap(df_new.corr() , annot = True , cmap = 'coolwarm')\n",
    "plt.show()"
   ]
  },
  {
   "cell_type": "markdown",
   "id": "011ffe9b",
   "metadata": {},
   "source": [
    "### Extracting features and target"
   ]
  },
  {
   "cell_type": "code",
   "execution_count": 52,
   "id": "74ca87fb",
   "metadata": {},
   "outputs": [],
   "source": [
    "x = df_new.drop('Rating' , axis = 1)   # features \n",
    "\n",
    "y= df_new['Rating']          # target"
   ]
  },
  {
   "cell_type": "markdown",
   "id": "f2db996b",
   "metadata": {},
   "source": [
    "### Splting into train and test"
   ]
  },
  {
   "cell_type": "code",
   "execution_count": 53,
   "id": "ca1684fe",
   "metadata": {},
   "outputs": [],
   "source": [
    "x_train , x_test , y_train , y_test = train_test_split( x , y , test_size = 0.2 , random_state = 51)"
   ]
  },
  {
   "cell_type": "markdown",
   "id": "5d744855",
   "metadata": {},
   "source": [
    "### Model training using linear regression"
   ]
  },
  {
   "cell_type": "code",
   "execution_count": 58,
   "id": "b0a5c03a",
   "metadata": {},
   "outputs": [
    {
     "data": {
      "text/html": [
       "<style>#sk-container-id-1 {color: black;background-color: white;}#sk-container-id-1 pre{padding: 0;}#sk-container-id-1 div.sk-toggleable {background-color: white;}#sk-container-id-1 label.sk-toggleable__label {cursor: pointer;display: block;width: 100%;margin-bottom: 0;padding: 0.3em;box-sizing: border-box;text-align: center;}#sk-container-id-1 label.sk-toggleable__label-arrow:before {content: \"▸\";float: left;margin-right: 0.25em;color: #696969;}#sk-container-id-1 label.sk-toggleable__label-arrow:hover:before {color: black;}#sk-container-id-1 div.sk-estimator:hover label.sk-toggleable__label-arrow:before {color: black;}#sk-container-id-1 div.sk-toggleable__content {max-height: 0;max-width: 0;overflow: hidden;text-align: left;background-color: #f0f8ff;}#sk-container-id-1 div.sk-toggleable__content pre {margin: 0.2em;color: black;border-radius: 0.25em;background-color: #f0f8ff;}#sk-container-id-1 input.sk-toggleable__control:checked~div.sk-toggleable__content {max-height: 200px;max-width: 100%;overflow: auto;}#sk-container-id-1 input.sk-toggleable__control:checked~label.sk-toggleable__label-arrow:before {content: \"▾\";}#sk-container-id-1 div.sk-estimator input.sk-toggleable__control:checked~label.sk-toggleable__label {background-color: #d4ebff;}#sk-container-id-1 div.sk-label input.sk-toggleable__control:checked~label.sk-toggleable__label {background-color: #d4ebff;}#sk-container-id-1 input.sk-hidden--visually {border: 0;clip: rect(1px 1px 1px 1px);clip: rect(1px, 1px, 1px, 1px);height: 1px;margin: -1px;overflow: hidden;padding: 0;position: absolute;width: 1px;}#sk-container-id-1 div.sk-estimator {font-family: monospace;background-color: #f0f8ff;border: 1px dotted black;border-radius: 0.25em;box-sizing: border-box;margin-bottom: 0.5em;}#sk-container-id-1 div.sk-estimator:hover {background-color: #d4ebff;}#sk-container-id-1 div.sk-parallel-item::after {content: \"\";width: 100%;border-bottom: 1px solid gray;flex-grow: 1;}#sk-container-id-1 div.sk-label:hover label.sk-toggleable__label {background-color: #d4ebff;}#sk-container-id-1 div.sk-serial::before {content: \"\";position: absolute;border-left: 1px solid gray;box-sizing: border-box;top: 0;bottom: 0;left: 50%;z-index: 0;}#sk-container-id-1 div.sk-serial {display: flex;flex-direction: column;align-items: center;background-color: white;padding-right: 0.2em;padding-left: 0.2em;position: relative;}#sk-container-id-1 div.sk-item {position: relative;z-index: 1;}#sk-container-id-1 div.sk-parallel {display: flex;align-items: stretch;justify-content: center;background-color: white;position: relative;}#sk-container-id-1 div.sk-item::before, #sk-container-id-1 div.sk-parallel-item::before {content: \"\";position: absolute;border-left: 1px solid gray;box-sizing: border-box;top: 0;bottom: 0;left: 50%;z-index: -1;}#sk-container-id-1 div.sk-parallel-item {display: flex;flex-direction: column;z-index: 1;position: relative;background-color: white;}#sk-container-id-1 div.sk-parallel-item:first-child::after {align-self: flex-end;width: 50%;}#sk-container-id-1 div.sk-parallel-item:last-child::after {align-self: flex-start;width: 50%;}#sk-container-id-1 div.sk-parallel-item:only-child::after {width: 0;}#sk-container-id-1 div.sk-dashed-wrapped {border: 1px dashed gray;margin: 0 0.4em 0.5em 0.4em;box-sizing: border-box;padding-bottom: 0.4em;background-color: white;}#sk-container-id-1 div.sk-label label {font-family: monospace;font-weight: bold;display: inline-block;line-height: 1.2em;}#sk-container-id-1 div.sk-label-container {text-align: center;}#sk-container-id-1 div.sk-container {/* jupyter's `normalize.less` sets `[hidden] { display: none; }` but bootstrap.min.css set `[hidden] { display: none !important; }` so we also need the `!important` here to be able to override the default hidden behavior on the sphinx rendered scikit-learn.org. See: https://github.com/scikit-learn/scikit-learn/issues/21755 */display: inline-block !important;position: relative;}#sk-container-id-1 div.sk-text-repr-fallback {display: none;}</style><div id=\"sk-container-id-1\" class=\"sk-top-container\"><div class=\"sk-text-repr-fallback\"><pre>RandomForestRegressor()</pre><b>In a Jupyter environment, please rerun this cell to show the HTML representation or trust the notebook. <br />On GitHub, the HTML representation is unable to render, please try loading this page with nbviewer.org.</b></div><div class=\"sk-container\" hidden><div class=\"sk-item\"><div class=\"sk-estimator sk-toggleable\"><input class=\"sk-toggleable__control sk-hidden--visually\" id=\"sk-estimator-id-1\" type=\"checkbox\" checked><label for=\"sk-estimator-id-1\" class=\"sk-toggleable__label sk-toggleable__label-arrow\">RandomForestRegressor</label><div class=\"sk-toggleable__content\"><pre>RandomForestRegressor()</pre></div></div></div></div></div>"
      ],
      "text/plain": [
       "RandomForestRegressor()"
      ]
     },
     "execution_count": 58,
     "metadata": {},
     "output_type": "execute_result"
    }
   ],
   "source": [
    "from sklearn.ensemble import RandomForestRegressor\n",
    "\n",
    "rf = RandomForestRegressor()\n",
    "rf.fit(x_train , y_train)"
   ]
  },
  {
   "cell_type": "markdown",
   "id": "86c39ace",
   "metadata": {},
   "source": [
    "### Model evaluation"
   ]
  },
  {
   "cell_type": "code",
   "execution_count": 61,
   "id": "5ca8fa0c",
   "metadata": {},
   "outputs": [
    {
     "data": {
      "text/plain": [
       "array([6.55439196, 6.20923118, 6.3875    , ..., 6.88717588, 7.3495    ,\n",
       "       5.29006784])"
      ]
     },
     "execution_count": 61,
     "metadata": {},
     "output_type": "execute_result"
    }
   ],
   "source": [
    "y_pred = rf.predict(x_test)\n",
    "y_pred"
   ]
  },
  {
   "cell_type": "code",
   "execution_count": 63,
   "id": "bc469a95",
   "metadata": {},
   "outputs": [
    {
     "name": "stdout",
     "output_type": "stream",
     "text": [
      "0.7245603589839369\n"
     ]
    }
   ],
   "source": [
    "from sklearn.metrics import r2_score , classification_report\n",
    "\n",
    "print(r2_score(y_test , y_pred))"
   ]
  },
  {
   "cell_type": "code",
   "execution_count": 64,
   "id": "9d5c7be0",
   "metadata": {},
   "outputs": [
    {
     "data": {
      "text/html": [
       "<table class=\"simpletable\">\n",
       "<caption>OLS Regression Results</caption>\n",
       "<tr>\n",
       "  <th>Dep. Variable:</th>         <td>Rating</td>      <th>  R-squared:         </th> <td>   0.682</td> \n",
       "</tr>\n",
       "<tr>\n",
       "  <th>Model:</th>                   <td>OLS</td>       <th>  Adj. R-squared:    </th> <td>   0.682</td> \n",
       "</tr>\n",
       "<tr>\n",
       "  <th>Method:</th>             <td>Least Squares</td>  <th>  F-statistic:       </th> <td>   2710.</td> \n",
       "</tr>\n",
       "<tr>\n",
       "  <th>Date:</th>             <td>Tue, 31 Oct 2023</td> <th>  Prob (F-statistic):</th>  <td>  0.00</td>  \n",
       "</tr>\n",
       "<tr>\n",
       "  <th>Time:</th>                 <td>19:20:45</td>     <th>  Log-Likelihood:    </th> <td> -6226.7</td> \n",
       "</tr>\n",
       "<tr>\n",
       "  <th>No. Observations:</th>      <td> 10124</td>      <th>  AIC:               </th> <td>1.247e+04</td>\n",
       "</tr>\n",
       "<tr>\n",
       "  <th>Df Residuals:</th>          <td> 10115</td>      <th>  BIC:               </th> <td>1.254e+04</td>\n",
       "</tr>\n",
       "<tr>\n",
       "  <th>Df Model:</th>              <td>     8</td>      <th>                     </th>     <td> </td>    \n",
       "</tr>\n",
       "<tr>\n",
       "  <th>Covariance Type:</th>      <td>nonrobust</td>    <th>                     </th>     <td> </td>    \n",
       "</tr>\n",
       "</table>\n",
       "<table class=\"simpletable\">\n",
       "<tr>\n",
       "          <td></td>             <th>coef</th>     <th>std err</th>      <th>t</th>      <th>P>|t|</th>  <th>[0.025</th>    <th>0.975]</th>  \n",
       "</tr>\n",
       "<tr>\n",
       "  <th>const</th>             <td>   -7.0718</td> <td>    0.480</td> <td>  -14.723</td> <td> 0.000</td> <td>   -8.013</td> <td>   -6.130</td>\n",
       "</tr>\n",
       "<tr>\n",
       "  <th>Year</th>              <td>    0.0019</td> <td>    0.000</td> <td>    8.568</td> <td> 0.000</td> <td>    0.001</td> <td>    0.002</td>\n",
       "</tr>\n",
       "<tr>\n",
       "  <th>Duration</th>          <td>    0.0075</td> <td>    0.001</td> <td>   12.651</td> <td> 0.000</td> <td>    0.006</td> <td>    0.009</td>\n",
       "</tr>\n",
       "<tr>\n",
       "  <th>Votes</th>             <td>    0.0003</td> <td>  6.8e-05</td> <td>    4.145</td> <td> 0.000</td> <td>    0.000</td> <td>    0.000</td>\n",
       "</tr>\n",
       "<tr>\n",
       "  <th>Genre_mean_rating</th> <td>    0.1337</td> <td>    0.014</td> <td>    9.465</td> <td> 0.000</td> <td>    0.106</td> <td>    0.161</td>\n",
       "</tr>\n",
       "<tr>\n",
       "  <th>Director_encoded</th>  <td>    0.4208</td> <td>    0.009</td> <td>   45.479</td> <td> 0.000</td> <td>    0.403</td> <td>    0.439</td>\n",
       "</tr>\n",
       "<tr>\n",
       "  <th>Actor1_encoded</th>    <td>    0.2592</td> <td>    0.011</td> <td>   24.281</td> <td> 0.000</td> <td>    0.238</td> <td>    0.280</td>\n",
       "</tr>\n",
       "<tr>\n",
       "  <th>Actor2_encoded</th>    <td>    0.2651</td> <td>    0.011</td> <td>   24.331</td> <td> 0.000</td> <td>    0.244</td> <td>    0.286</td>\n",
       "</tr>\n",
       "<tr>\n",
       "  <th>Actor3_encoded</th>    <td>    0.3296</td> <td>    0.011</td> <td>   30.536</td> <td> 0.000</td> <td>    0.308</td> <td>    0.351</td>\n",
       "</tr>\n",
       "</table>\n",
       "<table class=\"simpletable\">\n",
       "<tr>\n",
       "  <th>Omnibus:</th>       <td>572.798</td> <th>  Durbin-Watson:     </th> <td>   2.011</td> \n",
       "</tr>\n",
       "<tr>\n",
       "  <th>Prob(Omnibus):</th> <td> 0.000</td>  <th>  Jarque-Bera (JB):  </th> <td>1423.198</td> \n",
       "</tr>\n",
       "<tr>\n",
       "  <th>Skew:</th>          <td> 0.334</td>  <th>  Prob(JB):          </th> <td>9.05e-310</td>\n",
       "</tr>\n",
       "<tr>\n",
       "  <th>Kurtosis:</th>      <td> 4.711</td>  <th>  Cond. No.          </th> <td>2.16e+05</td> \n",
       "</tr>\n",
       "</table><br/><br/>Notes:<br/>[1] Standard Errors assume that the covariance matrix of the errors is correctly specified.<br/>[2] The condition number is large, 2.16e+05. This might indicate that there are<br/>strong multicollinearity or other numerical problems."
      ],
      "text/plain": [
       "<class 'statsmodels.iolib.summary.Summary'>\n",
       "\"\"\"\n",
       "                            OLS Regression Results                            \n",
       "==============================================================================\n",
       "Dep. Variable:                 Rating   R-squared:                       0.682\n",
       "Model:                            OLS   Adj. R-squared:                  0.682\n",
       "Method:                 Least Squares   F-statistic:                     2710.\n",
       "Date:                Tue, 31 Oct 2023   Prob (F-statistic):               0.00\n",
       "Time:                        19:20:45   Log-Likelihood:                -6226.7\n",
       "No. Observations:               10124   AIC:                         1.247e+04\n",
       "Df Residuals:                   10115   BIC:                         1.254e+04\n",
       "Df Model:                           8                                         \n",
       "Covariance Type:            nonrobust                                         \n",
       "=====================================================================================\n",
       "                        coef    std err          t      P>|t|      [0.025      0.975]\n",
       "-------------------------------------------------------------------------------------\n",
       "const                -7.0718      0.480    -14.723      0.000      -8.013      -6.130\n",
       "Year                  0.0019      0.000      8.568      0.000       0.001       0.002\n",
       "Duration              0.0075      0.001     12.651      0.000       0.006       0.009\n",
       "Votes                 0.0003    6.8e-05      4.145      0.000       0.000       0.000\n",
       "Genre_mean_rating     0.1337      0.014      9.465      0.000       0.106       0.161\n",
       "Director_encoded      0.4208      0.009     45.479      0.000       0.403       0.439\n",
       "Actor1_encoded        0.2592      0.011     24.281      0.000       0.238       0.280\n",
       "Actor2_encoded        0.2651      0.011     24.331      0.000       0.244       0.286\n",
       "Actor3_encoded        0.3296      0.011     30.536      0.000       0.308       0.351\n",
       "==============================================================================\n",
       "Omnibus:                      572.798   Durbin-Watson:                   2.011\n",
       "Prob(Omnibus):                  0.000   Jarque-Bera (JB):             1423.198\n",
       "Skew:                           0.334   Prob(JB):                    9.05e-310\n",
       "Kurtosis:                       4.711   Cond. No.                     2.16e+05\n",
       "==============================================================================\n",
       "\n",
       "Notes:\n",
       "[1] Standard Errors assume that the covariance matrix of the errors is correctly specified.\n",
       "[2] The condition number is large, 2.16e+05. This might indicate that there are\n",
       "strong multicollinearity or other numerical problems.\n",
       "\"\"\""
      ]
     },
     "execution_count": 64,
     "metadata": {},
     "output_type": "execute_result"
    }
   ],
   "source": [
    "# add constant\n",
    "x_train_sm = sm.add_constant(x_train)\n",
    "\n",
    "# traing model using ols method\n",
    "model = sm.OLS(y_train , x_train_sm).fit()\n",
    "\n",
    "# model summary\n",
    "model.summary()"
   ]
  },
  {
   "cell_type": "markdown",
   "id": "8d283aca",
   "metadata": {},
   "source": [
    "### Model testing"
   ]
  },
  {
   "cell_type": "code",
   "execution_count": 42,
   "id": "5346eebe",
   "metadata": {},
   "outputs": [
    {
     "data": {
      "text/html": [
       "<div>\n",
       "<style scoped>\n",
       "    .dataframe tbody tr th:only-of-type {\n",
       "        vertical-align: middle;\n",
       "    }\n",
       "\n",
       "    .dataframe tbody tr th {\n",
       "        vertical-align: top;\n",
       "    }\n",
       "\n",
       "    .dataframe thead th {\n",
       "        text-align: right;\n",
       "    }\n",
       "</style>\n",
       "<table border=\"1\" class=\"dataframe\">\n",
       "  <thead>\n",
       "    <tr style=\"text-align: right;\">\n",
       "      <th></th>\n",
       "      <th>Year</th>\n",
       "      <th>Duration</th>\n",
       "      <th>Votes</th>\n",
       "      <th>Genre_mean_rating</th>\n",
       "      <th>Director_encoded</th>\n",
       "      <th>Actor1_encoded</th>\n",
       "      <th>Actor2_encoded</th>\n",
       "      <th>Actor3_encoded</th>\n",
       "    </tr>\n",
       "  </thead>\n",
       "  <tbody>\n",
       "    <tr>\n",
       "      <th>0</th>\n",
       "      <td>2016</td>\n",
       "      <td>121</td>\n",
       "      <td>58</td>\n",
       "      <td>4.5</td>\n",
       "      <td>5.8</td>\n",
       "      <td>5.9</td>\n",
       "      <td>5.9</td>\n",
       "      <td>5.9</td>\n",
       "    </tr>\n",
       "  </tbody>\n",
       "</table>\n",
       "</div>"
      ],
      "text/plain": [
       "   Year  Duration  Votes  Genre_mean_rating  Director_encoded  Actor1_encoded  \\\n",
       "0  2016       121     58                4.5               5.8             5.9   \n",
       "\n",
       "   Actor2_encoded  Actor3_encoded  \n",
       "0             5.9             5.9  "
      ]
     },
     "execution_count": 42,
     "metadata": {},
     "output_type": "execute_result"
    }
   ],
   "source": [
    "data = {'Year': [2016], 'Duration': [121],'Votes': [58] , 'Genre_mean_rating': [4.5], 'Director_encoded': [5.8], 'Actor1_encoded': [5.9], 'Actor2_encoded': [5.9], 'Actor3_encoded': [5.900]}\n",
    "df1 = pd.DataFrame(data)\n",
    "df1"
   ]
  },
  {
   "cell_type": "code",
   "execution_count": 43,
   "id": "8d5a7ed7",
   "metadata": {},
   "outputs": [
    {
     "name": "stdout",
     "output_type": "stream",
     "text": [
      "[6.02328392]\n"
     ]
    }
   ],
   "source": [
    "pred = rf.predict(df1)\n",
    "print(pred)"
   ]
  },
  {
   "cell_type": "code",
   "execution_count": null,
   "id": "d7147129",
   "metadata": {},
   "outputs": [],
   "source": []
  }
 ],
 "metadata": {
  "kernelspec": {
   "display_name": "Python 3 (ipykernel)",
   "language": "python",
   "name": "python3"
  },
  "language_info": {
   "codemirror_mode": {
    "name": "ipython",
    "version": 3
   },
   "file_extension": ".py",
   "mimetype": "text/x-python",
   "name": "python",
   "nbconvert_exporter": "python",
   "pygments_lexer": "ipython3",
   "version": "3.10.9"
  }
 },
 "nbformat": 4,
 "nbformat_minor": 5
}
